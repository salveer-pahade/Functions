{
  "nbformat": 4,
  "nbformat_minor": 0,
  "metadata": {
    "colab": {
      "provenance": []
    },
    "kernelspec": {
      "name": "python3",
      "display_name": "Python 3"
    },
    "language_info": {
      "name": "python"
    }
  },
  "cells": [
    {
      "cell_type": "markdown",
      "source": [
        "#Functions\n"
      ],
      "metadata": {
        "id": "TaOjKN5v2maO"
      }
    },
    {
      "cell_type": "code",
      "execution_count": null,
      "metadata": {
        "id": "xkkQ1nFd2GYB"
      },
      "outputs": [],
      "source": []
    },
    {
      "cell_type": "markdown",
      "source": [
        "1. What is your name?\n",
        "   - My name is Salveer\n",
        "2. Where do you live?\n",
        "    - i live in Indore\n"
      ],
      "metadata": {
        "id": "UiDaWKFJ20TG"
      }
    },
    {
      "cell_type": "code",
      "source": [
        "#Question\n",
        "\"\"\"\n",
        "My Answer is here\n",
        "\"\"\"\n"
      ],
      "metadata": {
        "id": "y_Pcwloo3orZ"
      },
      "execution_count": 1,
      "outputs": []
    },
    {
      "cell_type": "markdown",
      "source": [],
      "metadata": {
        "id": "ghTtz2Cp2xsC"
      }
    }
  ]
}